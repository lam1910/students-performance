{
 "cells": [
  {
   "cell_type": "code",
   "execution_count": 1,
   "id": "9a8c7286-20b3-4125-9e39-987bdfeae11c",
   "metadata": {},
   "outputs": [],
   "source": [
    "import boto3\n",
    "from botocore.exceptions import ClientError\n",
    "import configparser"
   ]
  },
  {
   "cell_type": "code",
   "execution_count": 2,
   "id": "f59b624d-77eb-4682-9006-7923b63e73c0",
   "metadata": {},
   "outputs": [],
   "source": [
    "# Load environment variables from config.ini file\n",
    "config = configparser.ConfigParser()\n",
    "config.read('config.env')\n",
    "\n",
    "access_id = config['DEFAULT']['AccessKeyID']\n",
    "access_key = config['DEFAULT']['SecretAccessKey']\n",
    "region = config['DEFAULT']['DefaultRegion']"
   ]
  },
  {
   "cell_type": "code",
   "execution_count": 3,
   "id": "dc2384f3-c4d7-4f55-8bdf-1bd600bd03a9",
   "metadata": {},
   "outputs": [],
   "source": [
    "# To create default session:\n",
    "def create_aws_session():\n",
    "    session = boto3.session.Session()\n",
    "    #it creates the default session and can use to connect with any AWS service\n",
    "    return session\n",
    "\n",
    "# To Create customized session:\n",
    "def create_customized_session(aws_access_key, aws_secret_key, region_name=None,profile_name=None):\n",
    "    session = boto3.session.Session(aws_access_key_id=aws_access_key,\n",
    "                                   aws_secret_access_key=aws_secret_key,\n",
    "                                   region_name=region_name,\n",
    "                                   profile_name = profile_name)\n",
    "    # Here, region_name and prof|ile_name are optional parameters and default value is None\n",
    "    return session"
   ]
  },
  {
   "cell_type": "code",
   "execution_count": 4,
   "id": "bf0c5e39-d67d-4a46-bda1-ff94499820d4",
   "metadata": {},
   "outputs": [],
   "source": [
    "def create_bucket(session, bucket_name, region=None):\n",
    "    \"\"\"Create an S3 bucket if it doesn't exist\"\"\"\n",
    "    s3 = session.client('s3')\n",
    "    try:\n",
    "        if region:\n",
    "            s3.create_bucket(\n",
    "                Bucket=bucket_name,\n",
    "                CreateBucketConfiguration={'LocationConstraint': region}\n",
    "            )\n",
    "        else:\n",
    "            s3.create_bucket(Bucket=bucket_name)\n",
    "        print(f\"Bucket '{bucket_name}' created successfully.\")\n",
    "    except ClientError as e:\n",
    "        if \"BucketAlreadyOwnedByYou\" in str(e):\n",
    "            print(f\"Bucket '{bucket_name}' already exists.\")\n",
    "        else:\n",
    "            print(f\"Error: {e}\")\n",
    "            return False\n",
    "    return True\n",
    "\n",
    "def upload_file(session, bucket_name, file_name, object_name=None):\n",
    "    \"\"\"Upload a file to an S3 bucket\"\"\"\n",
    "    s3 = session.client('s3')\n",
    "    try:\n",
    "        if object_name is None:\n",
    "            object_name = file_name\n",
    "        s3.upload_file(file_name, bucket_name, object_name)\n",
    "        print(f\"File '{file_name}' uploaded successfully to '{bucket_name}/{object_name}'.\")\n",
    "    except ClientError as e:\n",
    "        print(f\"Error: {e}\")\n",
    "        return False\n",
    "    return True"
   ]
  },
  {
   "cell_type": "code",
   "execution_count": 5,
   "id": "cea263a5-c5eb-4c9a-a446-0a26b2611fc4",
   "metadata": {},
   "outputs": [
    {
     "name": "stdout",
     "output_type": "stream",
     "text": [
      "Bucket 'lam-s-bucket-1910' already exists.\n",
      "File 'file.txt' uploaded successfully to 'lam-s-bucket-1910/file.txt'.\n"
     ]
    }
   ],
   "source": [
    "if __name__ == '__main__':\n",
    "    bucket_name = \"lam-s-bucket-1910\"  # Replace with your bucket name\n",
    "    file_name = \"file.txt\"  # Replace with the file path\n",
    "\n",
    "    # step 0: init session\n",
    "    my_session = create_customized_session(access_id, access_key, region)\n",
    "    # Step 1: Create bucket if it doesn't exist\n",
    "    if create_bucket(my_session, bucket_name, region):\n",
    "        # Step 2: Upload file to the bucket\n",
    "        upload_file(my_session, bucket_name, file_name)"
   ]
  },
  {
   "cell_type": "code",
   "execution_count": null,
   "id": "150a97d6-e4ba-4584-93f9-0a1c71ecc7ac",
   "metadata": {},
   "outputs": [],
   "source": []
  }
 ],
 "metadata": {
  "kernelspec": {
   "display_name": "Python [conda env:.conda-big-data-aws]",
   "language": "python",
   "name": "conda-env-.conda-big-data-aws-py"
  },
  "language_info": {
   "codemirror_mode": {
    "name": "ipython",
    "version": 3
   },
   "file_extension": ".py",
   "mimetype": "text/x-python",
   "name": "python",
   "nbconvert_exporter": "python",
   "pygments_lexer": "ipython3",
   "version": "3.9.21"
  }
 },
 "nbformat": 4,
 "nbformat_minor": 5
}
